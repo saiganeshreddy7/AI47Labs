{
 "cells": [
  {
   "cell_type": "code",
   "execution_count": 1,
   "metadata": {},
   "outputs": [],
   "source": [
    "import pandas as pd\n",
    "\n",
    "# Load your CSV file\n",
    "csv_path = \"./cleaned2.csv\"  # Update with your actual file path\n",
    "data = pd.read_csv(csv_path)\n",
    "\n",
    "# Template function for text generation\n",
    "def create_text(row):\n",
    "    return f\"\"\"\n",
    "Dr. {row['name']}, working at {row['hospital']} in {row['location']}, holds the position of {row['designation']}. They specialize in {row['specilization&qualification']} and are a part of the {row['department']} department.\n",
    "\n",
    "About Dr. {row['name']}: {row['about']}\n",
    "\n",
    "Achievements: {row['milestones']}\n",
    "\n",
    "Learn more at: {row['profilelink']}\n",
    "\"\"\"\n",
    "\n",
    "# Apply the template to each row\n",
    "data['text'] = data.apply(create_text, axis=1)\n",
    "\n",
    "# Save the text data to a file\n",
    "output_file = \"formatted_data.txt\"\n",
    "with open(output_file, \"w\", encoding=\"utf-8\") as f:\n",
    "    for text in data['text']:\n",
    "        f.write(text + \"\\n\")\n"
   ]
  }
 ],
 "metadata": {
  "kernelspec": {
   "display_name": "Python 3",
   "language": "python",
   "name": "python3"
  },
  "language_info": {
   "codemirror_mode": {
    "name": "ipython",
    "version": 3
   },
   "file_extension": ".py",
   "mimetype": "text/x-python",
   "name": "python",
   "nbconvert_exporter": "python",
   "pygments_lexer": "ipython3",
   "version": "3.12.2"
  }
 },
 "nbformat": 4,
 "nbformat_minor": 2
}
